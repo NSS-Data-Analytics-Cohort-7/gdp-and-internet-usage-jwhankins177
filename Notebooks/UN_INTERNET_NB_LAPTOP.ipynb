{
 "cells": [
  {
   "cell_type": "code",
   "execution_count": 1,
   "id": "79194e2f",
   "metadata": {},
   "outputs": [],
   "source": [
    "import pandas as pd\n",
    "import numpy as np\n",
    "import matplotlib.pyplot as plt\n",
    "import seaborn as snsb"
   ]
  },
  {
   "cell_type": "code",
   "execution_count": 2,
   "id": "21fc226f",
   "metadata": {},
   "outputs": [],
   "source": [
    "%matplotlib inline"
   ]
  },
  {
   "cell_type": "code",
   "execution_count": 3,
   "id": "114eb37f",
   "metadata": {
    "scrolled": true
   },
   "outputs": [],
   "source": [
    "gdp_df = pd.read_csv(\"../Data/gdp_percapita.csv\", nrows=6868)"
   ]
  },
  {
   "cell_type": "code",
   "execution_count": 4,
   "id": "85fafcc1",
   "metadata": {},
   "outputs": [],
   "source": [
    "internet_df = pd.read_csv(\"../Data/internet_use.csv\", nrows=4495)"
   ]
  },
  {
   "cell_type": "markdown",
   "id": "98fe5b1b",
   "metadata": {},
   "source": [
    "### Using the pandas `read_csv()` method, read the GDP dataset into your notebook as a DataFrame called `gdp_df`. Take a look at the first 6 rows."
   ]
  },
  {
   "cell_type": "code",
   "execution_count": 5,
   "id": "64bec65b",
   "metadata": {},
   "outputs": [
    {
     "data": {
      "text/html": [
       "<div>\n",
       "<style scoped>\n",
       "    .dataframe tbody tr th:only-of-type {\n",
       "        vertical-align: middle;\n",
       "    }\n",
       "\n",
       "    .dataframe tbody tr th {\n",
       "        vertical-align: top;\n",
       "    }\n",
       "\n",
       "    .dataframe thead th {\n",
       "        text-align: right;\n",
       "    }\n",
       "</style>\n",
       "<table border=\"1\" class=\"dataframe\">\n",
       "  <thead>\n",
       "    <tr style=\"text-align: right;\">\n",
       "      <th></th>\n",
       "      <th>Country or Area</th>\n",
       "      <th>Year</th>\n",
       "      <th>Value</th>\n",
       "      <th>Value Footnotes</th>\n",
       "    </tr>\n",
       "  </thead>\n",
       "  <tbody>\n",
       "    <tr>\n",
       "      <th>0</th>\n",
       "      <td>Afghanistan</td>\n",
       "      <td>2019</td>\n",
       "      <td>2065.036398</td>\n",
       "      <td>NaN</td>\n",
       "    </tr>\n",
       "    <tr>\n",
       "      <th>1</th>\n",
       "      <td>Afghanistan</td>\n",
       "      <td>2018</td>\n",
       "      <td>2033.779002</td>\n",
       "      <td>NaN</td>\n",
       "    </tr>\n",
       "    <tr>\n",
       "      <th>2</th>\n",
       "      <td>Afghanistan</td>\n",
       "      <td>2017</td>\n",
       "      <td>2058.383832</td>\n",
       "      <td>NaN</td>\n",
       "    </tr>\n",
       "    <tr>\n",
       "      <th>3</th>\n",
       "      <td>Afghanistan</td>\n",
       "      <td>2016</td>\n",
       "      <td>2057.062164</td>\n",
       "      <td>NaN</td>\n",
       "    </tr>\n",
       "    <tr>\n",
       "      <th>4</th>\n",
       "      <td>Afghanistan</td>\n",
       "      <td>2015</td>\n",
       "      <td>2068.265904</td>\n",
       "      <td>NaN</td>\n",
       "    </tr>\n",
       "    <tr>\n",
       "      <th>5</th>\n",
       "      <td>Afghanistan</td>\n",
       "      <td>2014</td>\n",
       "      <td>2102.385234</td>\n",
       "      <td>NaN</td>\n",
       "    </tr>\n",
       "  </tbody>\n",
       "</table>\n",
       "</div>"
      ],
      "text/plain": [
       "  Country or Area  Year        Value  Value Footnotes\n",
       "0     Afghanistan  2019  2065.036398              NaN\n",
       "1     Afghanistan  2018  2033.779002              NaN\n",
       "2     Afghanistan  2017  2058.383832              NaN\n",
       "3     Afghanistan  2016  2057.062164              NaN\n",
       "4     Afghanistan  2015  2068.265904              NaN\n",
       "5     Afghanistan  2014  2102.385234              NaN"
      ]
     },
     "execution_count": 5,
     "metadata": {},
     "output_type": "execute_result"
    }
   ],
   "source": [
    "gdp_df.head(6)"
   ]
  },
  {
   "cell_type": "markdown",
   "id": "91ea0e07",
   "metadata": {},
   "source": [
    "### Repeat for the internet use dataset. Call this DataFrame `internet_df`. Take a look at the first six rows."
   ]
  },
  {
   "cell_type": "code",
   "execution_count": 6,
   "id": "4b98d3f9",
   "metadata": {},
   "outputs": [
    {
     "data": {
      "text/html": [
       "<div>\n",
       "<style scoped>\n",
       "    .dataframe tbody tr th:only-of-type {\n",
       "        vertical-align: middle;\n",
       "    }\n",
       "\n",
       "    .dataframe tbody tr th {\n",
       "        vertical-align: top;\n",
       "    }\n",
       "\n",
       "    .dataframe thead th {\n",
       "        text-align: right;\n",
       "    }\n",
       "</style>\n",
       "<table border=\"1\" class=\"dataframe\">\n",
       "  <thead>\n",
       "    <tr style=\"text-align: right;\">\n",
       "      <th></th>\n",
       "      <th>Country or Area</th>\n",
       "      <th>Year</th>\n",
       "      <th>Value</th>\n",
       "      <th>Value Footnotes</th>\n",
       "    </tr>\n",
       "  </thead>\n",
       "  <tbody>\n",
       "    <tr>\n",
       "      <th>0</th>\n",
       "      <td>Afghanistan</td>\n",
       "      <td>2014</td>\n",
       "      <td>6.390000</td>\n",
       "      <td>NaN</td>\n",
       "    </tr>\n",
       "    <tr>\n",
       "      <th>1</th>\n",
       "      <td>Afghanistan</td>\n",
       "      <td>2013</td>\n",
       "      <td>5.900000</td>\n",
       "      <td>NaN</td>\n",
       "    </tr>\n",
       "    <tr>\n",
       "      <th>2</th>\n",
       "      <td>Afghanistan</td>\n",
       "      <td>2012</td>\n",
       "      <td>5.454545</td>\n",
       "      <td>NaN</td>\n",
       "    </tr>\n",
       "    <tr>\n",
       "      <th>3</th>\n",
       "      <td>Afghanistan</td>\n",
       "      <td>2011</td>\n",
       "      <td>5.000000</td>\n",
       "      <td>NaN</td>\n",
       "    </tr>\n",
       "    <tr>\n",
       "      <th>4</th>\n",
       "      <td>Afghanistan</td>\n",
       "      <td>2010</td>\n",
       "      <td>4.000000</td>\n",
       "      <td>NaN</td>\n",
       "    </tr>\n",
       "    <tr>\n",
       "      <th>5</th>\n",
       "      <td>Afghanistan</td>\n",
       "      <td>2009</td>\n",
       "      <td>3.550000</td>\n",
       "      <td>NaN</td>\n",
       "    </tr>\n",
       "  </tbody>\n",
       "</table>\n",
       "</div>"
      ],
      "text/plain": [
       "  Country or Area  Year     Value  Value Footnotes\n",
       "0     Afghanistan  2014  6.390000              NaN\n",
       "1     Afghanistan  2013  5.900000              NaN\n",
       "2     Afghanistan  2012  5.454545              NaN\n",
       "3     Afghanistan  2011  5.000000              NaN\n",
       "4     Afghanistan  2010  4.000000              NaN\n",
       "5     Afghanistan  2009  3.550000              NaN"
      ]
     },
     "execution_count": 6,
     "metadata": {},
     "output_type": "execute_result"
    }
   ],
   "source": [
    "internet_df.head(6)"
   ]
  },
  {
   "cell_type": "markdown",
   "id": "6b53ad59",
   "metadata": {},
   "source": [
    "### Look at the shape of each DataFrame - how many rows? How many columns?\n",
    "Take a look at the datatypes for the columns in each DataFrame."
   ]
  },
  {
   "cell_type": "code",
   "execution_count": 7,
   "id": "a3261f5d",
   "metadata": {},
   "outputs": [
    {
     "name": "stdout",
     "output_type": "stream",
     "text": [
      "<class 'pandas.core.frame.DataFrame'>\n",
      "RangeIndex: 6868 entries, 0 to 6867\n",
      "Data columns (total 4 columns):\n",
      " #   Column           Non-Null Count  Dtype  \n",
      "---  ------           --------------  -----  \n",
      " 0   Country or Area  6868 non-null   object \n",
      " 1   Year             6868 non-null   int64  \n",
      " 2   Value            6868 non-null   float64\n",
      " 3   Value Footnotes  1 non-null      float64\n",
      "dtypes: float64(2), int64(1), object(1)\n",
      "memory usage: 214.8+ KB\n"
     ]
    }
   ],
   "source": [
    "gdp_df.info()"
   ]
  },
  {
   "cell_type": "code",
   "execution_count": 8,
   "id": "f3ff9944",
   "metadata": {},
   "outputs": [
    {
     "name": "stdout",
     "output_type": "stream",
     "text": [
      "<class 'pandas.core.frame.DataFrame'>\n",
      "RangeIndex: 4495 entries, 0 to 4494\n",
      "Data columns (total 4 columns):\n",
      " #   Column           Non-Null Count  Dtype  \n",
      "---  ------           --------------  -----  \n",
      " 0   Country or Area  4495 non-null   object \n",
      " 1   Year             4495 non-null   int64  \n",
      " 2   Value            4495 non-null   float64\n",
      " 3   Value Footnotes  948 non-null    float64\n",
      "dtypes: float64(2), int64(1), object(1)\n",
      "memory usage: 140.6+ KB\n"
     ]
    }
   ],
   "source": [
    "internet_df.info()"
   ]
  },
  {
   "cell_type": "markdown",
   "id": "a43c9efe",
   "metadata": {},
   "source": [
    "### Take a look at the last 10 rows of each DataFrame"
   ]
  },
  {
   "cell_type": "code",
   "execution_count": 9,
   "id": "1bbeb88f",
   "metadata": {},
   "outputs": [
    {
     "name": "stdout",
     "output_type": "stream",
     "text": [
      "     Country or Area  Year        Value  Value Footnotes\n",
      "6858        Zimbabwe  1999  3600.849291              NaN\n",
      "6859        Zimbabwe  1998  3653.920016              NaN\n",
      "6860        Zimbabwe  1997  3580.048793              NaN\n",
      "6861        Zimbabwe  1996  3520.430146              NaN\n",
      "6862        Zimbabwe  1995  3226.413930              NaN\n",
      "6863        Zimbabwe  1994  3263.934978              NaN\n",
      "6864        Zimbabwe  1993  3033.504852              NaN\n",
      "6865        Zimbabwe  1992  3054.889178              NaN\n",
      "6866        Zimbabwe  1991  3426.598094              NaN\n",
      "6867        Zimbabwe  1990  3324.348171              NaN\n"
     ]
    }
   ],
   "source": [
    "gdp_df_last10 = gdp_df.tail(10)\n",
    "print(gdp_df_last10)"
   ]
  },
  {
   "cell_type": "code",
   "execution_count": 10,
   "id": "38d81cbc",
   "metadata": {},
   "outputs": [
    {
     "name": "stdout",
     "output_type": "stream",
     "text": [
      "     Country or Area  Year     Value  Value Footnotes\n",
      "4485        Zimbabwe  2002  3.994356              NaN\n",
      "4486        Zimbabwe  2001  0.799846              NaN\n",
      "4487        Zimbabwe  2000  0.401434              NaN\n",
      "4488        Zimbabwe  1999  0.161676              NaN\n",
      "4489        Zimbabwe  1998  0.081648              NaN\n",
      "4490        Zimbabwe  1997  0.033080              NaN\n",
      "4491        Zimbabwe  1996  0.016790              NaN\n",
      "4492        Zimbabwe  1995  0.007684              NaN\n",
      "4493        Zimbabwe  1994  0.001739              NaN\n",
      "4494        Zimbabwe  1990  0.000000              NaN\n"
     ]
    }
   ],
   "source": [
    "internet_df_last10 = internet_df.tail(10)\n",
    "print(internet_df_last10)"
   ]
  },
  {
   "cell_type": "markdown",
   "id": "058d2a1f",
   "metadata": {},
   "source": [
    "### Drop the `value footnotes` column from both DataFrames. Check that this worked as expected."
   ]
  },
  {
   "cell_type": "code",
   "execution_count": 11,
   "id": "165fddeb",
   "metadata": {},
   "outputs": [],
   "source": [
    "gdp_df_drop = gdp_df.drop('Value Footnotes', axis = 1) "
   ]
  },
  {
   "cell_type": "code",
   "execution_count": 12,
   "id": "cf574a82",
   "metadata": {},
   "outputs": [
    {
     "name": "stdout",
     "output_type": "stream",
     "text": [
      "     Country or Area  Year        Value\n",
      "0        Afghanistan  2019  2065.036398\n",
      "1        Afghanistan  2018  2033.779002\n",
      "2        Afghanistan  2017  2058.383832\n",
      "3        Afghanistan  2016  2057.062164\n",
      "4        Afghanistan  2015  2068.265904\n",
      "...              ...   ...          ...\n",
      "6863        Zimbabwe  1994  3263.934978\n",
      "6864        Zimbabwe  1993  3033.504852\n",
      "6865        Zimbabwe  1992  3054.889178\n",
      "6866        Zimbabwe  1991  3426.598094\n",
      "6867        Zimbabwe  1990  3324.348171\n",
      "\n",
      "[6868 rows x 3 columns]\n"
     ]
    }
   ],
   "source": [
    "print(gdp_df_drop)"
   ]
  },
  {
   "cell_type": "code",
   "execution_count": 13,
   "id": "77be5b8d",
   "metadata": {},
   "outputs": [],
   "source": [
    "internet_df_drop = internet_df.drop('Value Footnotes', axis = 1)"
   ]
  },
  {
   "cell_type": "code",
   "execution_count": 14,
   "id": "14572f8e",
   "metadata": {},
   "outputs": [
    {
     "name": "stdout",
     "output_type": "stream",
     "text": [
      "     Country or Area  Year     Value\n",
      "0        Afghanistan  2014  6.390000\n",
      "1        Afghanistan  2013  5.900000\n",
      "2        Afghanistan  2012  5.454545\n",
      "3        Afghanistan  2011  5.000000\n",
      "4        Afghanistan  2010  4.000000\n",
      "...              ...   ...       ...\n",
      "4490        Zimbabwe  1997  0.033080\n",
      "4491        Zimbabwe  1996  0.016790\n",
      "4492        Zimbabwe  1995  0.007684\n",
      "4493        Zimbabwe  1994  0.001739\n",
      "4494        Zimbabwe  1990  0.000000\n",
      "\n",
      "[4495 rows x 3 columns]\n"
     ]
    }
   ],
   "source": [
    "print(internet_df_drop)"
   ]
  },
  {
   "cell_type": "markdown",
   "id": "68b783ac",
   "metadata": {},
   "source": [
    "### Change the columns for the GDP Per Capita DataFrame to ‘Country’, ‘Year’, and ‘GDP_Per_Capita’."
   ]
  },
  {
   "cell_type": "code",
   "execution_count": 15,
   "id": "2f9b249f",
   "metadata": {},
   "outputs": [
    {
     "name": "stdout",
     "output_type": "stream",
     "text": [
      "          Country  Year  GDP_Per_Capita\n",
      "0     Afghanistan  2019     2065.036398\n",
      "1     Afghanistan  2018     2033.779002\n",
      "2     Afghanistan  2017     2058.383832\n",
      "3     Afghanistan  2016     2057.062164\n",
      "4     Afghanistan  2015     2068.265904\n",
      "...           ...   ...             ...\n",
      "6863     Zimbabwe  1994     3263.934978\n",
      "6864     Zimbabwe  1993     3033.504852\n",
      "6865     Zimbabwe  1992     3054.889178\n",
      "6866     Zimbabwe  1991     3426.598094\n",
      "6867     Zimbabwe  1990     3324.348171\n",
      "\n",
      "[6868 rows x 3 columns]\n"
     ]
    }
   ],
   "source": [
    "gdp_df_drop.columns = ['Country', 'Year', 'GDP_Per_Capita']\n",
    "print(gdp_df_drop)"
   ]
  },
  {
   "cell_type": "markdown",
   "id": "c024fdb8",
   "metadata": {},
   "source": [
    "### Change the columns for the Internet Users DataFrame to ‘Country’, ‘Year’, and ‘Internet_Users_Pct’.Change the columns for the Internet Users DataFrame to ‘Country’, ‘Year’, and ‘Internet_Users_Pct’."
   ]
  },
  {
   "cell_type": "code",
   "execution_count": 16,
   "id": "10b57f7a",
   "metadata": {},
   "outputs": [
    {
     "name": "stdout",
     "output_type": "stream",
     "text": [
      "          Country  Year  Internet_Users_Pct\n",
      "0     Afghanistan  2014            6.390000\n",
      "1     Afghanistan  2013            5.900000\n",
      "2     Afghanistan  2012            5.454545\n",
      "3     Afghanistan  2011            5.000000\n",
      "4     Afghanistan  2010            4.000000\n",
      "...           ...   ...                 ...\n",
      "4490     Zimbabwe  1997            0.033080\n",
      "4491     Zimbabwe  1996            0.016790\n",
      "4492     Zimbabwe  1995            0.007684\n",
      "4493     Zimbabwe  1994            0.001739\n",
      "4494     Zimbabwe  1990            0.000000\n",
      "\n",
      "[4495 rows x 3 columns]\n"
     ]
    }
   ],
   "source": [
    "internet_df_drop.columns = ['Country', 'Year', 'Internet_Users_Pct']\n",
    "print(internet_df_drop)"
   ]
  },
  {
   "cell_type": "markdown",
   "id": "586c2a0c",
   "metadata": {},
   "source": [
    "### Merge the two DataFrames to one. Merge **all rows** from each of the two DataFrames. Call the new DataFrame `gdp_and_internet_use`."
   ]
  },
  {
   "cell_type": "code",
   "execution_count": 17,
   "id": "16c43243",
   "metadata": {
    "scrolled": true
   },
   "outputs": [
    {
     "name": "stdout",
     "output_type": "stream",
     "text": [
      "          Country  Year  GDP_Per_Capita  Internet_Users_Pct\n",
      "0     Afghanistan  2019     2065.036398                 NaN\n",
      "1     Afghanistan  2018     2033.779002                 NaN\n",
      "2     Afghanistan  2017     2058.383832                 NaN\n",
      "3     Afghanistan  2016     2057.062164                 NaN\n",
      "4     Afghanistan  2015     2068.265904                 NaN\n",
      "...           ...   ...             ...                 ...\n",
      "7900        Yemen  1999             NaN            0.056629\n",
      "7901        Yemen  1998             NaN            0.023323\n",
      "7902        Yemen  1997             NaN            0.015025\n",
      "7903        Yemen  1996             NaN            0.000621\n",
      "7904        Yemen  1990             NaN            0.000000\n",
      "\n",
      "[7905 rows x 4 columns]\n"
     ]
    }
   ],
   "source": [
    "gdp_and_internet_use = pd.merge(gdp_df_drop, internet_df_drop, how='outer')\n",
    "print(gdp_and_internet_use)"
   ]
  },
  {
   "cell_type": "markdown",
   "id": "56409fb3",
   "metadata": {},
   "source": [
    "### Look at the first five rows of your new DataFrame to confirm it merged correctly.\n",
    "\n",
    "### Look at the last five rows to make sure the data is clean and as expected."
   ]
  },
  {
   "cell_type": "code",
   "execution_count": 18,
   "id": "4fca999b",
   "metadata": {
    "scrolled": true
   },
   "outputs": [
    {
     "data": {
      "text/html": [
       "<div>\n",
       "<style scoped>\n",
       "    .dataframe tbody tr th:only-of-type {\n",
       "        vertical-align: middle;\n",
       "    }\n",
       "\n",
       "    .dataframe tbody tr th {\n",
       "        vertical-align: top;\n",
       "    }\n",
       "\n",
       "    .dataframe thead th {\n",
       "        text-align: right;\n",
       "    }\n",
       "</style>\n",
       "<table border=\"1\" class=\"dataframe\">\n",
       "  <thead>\n",
       "    <tr style=\"text-align: right;\">\n",
       "      <th></th>\n",
       "      <th>Country</th>\n",
       "      <th>Year</th>\n",
       "      <th>GDP_Per_Capita</th>\n",
       "      <th>Internet_Users_Pct</th>\n",
       "    </tr>\n",
       "  </thead>\n",
       "  <tbody>\n",
       "    <tr>\n",
       "      <th>0</th>\n",
       "      <td>Afghanistan</td>\n",
       "      <td>2019</td>\n",
       "      <td>2065.036398</td>\n",
       "      <td>NaN</td>\n",
       "    </tr>\n",
       "    <tr>\n",
       "      <th>1</th>\n",
       "      <td>Afghanistan</td>\n",
       "      <td>2018</td>\n",
       "      <td>2033.779002</td>\n",
       "      <td>NaN</td>\n",
       "    </tr>\n",
       "    <tr>\n",
       "      <th>2</th>\n",
       "      <td>Afghanistan</td>\n",
       "      <td>2017</td>\n",
       "      <td>2058.383832</td>\n",
       "      <td>NaN</td>\n",
       "    </tr>\n",
       "    <tr>\n",
       "      <th>3</th>\n",
       "      <td>Afghanistan</td>\n",
       "      <td>2016</td>\n",
       "      <td>2057.062164</td>\n",
       "      <td>NaN</td>\n",
       "    </tr>\n",
       "    <tr>\n",
       "      <th>4</th>\n",
       "      <td>Afghanistan</td>\n",
       "      <td>2015</td>\n",
       "      <td>2068.265904</td>\n",
       "      <td>NaN</td>\n",
       "    </tr>\n",
       "  </tbody>\n",
       "</table>\n",
       "</div>"
      ],
      "text/plain": [
       "       Country  Year  GDP_Per_Capita  Internet_Users_Pct\n",
       "0  Afghanistan  2019     2065.036398                 NaN\n",
       "1  Afghanistan  2018     2033.779002                 NaN\n",
       "2  Afghanistan  2017     2058.383832                 NaN\n",
       "3  Afghanistan  2016     2057.062164                 NaN\n",
       "4  Afghanistan  2015     2068.265904                 NaN"
      ]
     },
     "execution_count": 18,
     "metadata": {},
     "output_type": "execute_result"
    }
   ],
   "source": [
    "gdp_and_internet_use.head()"
   ]
  },
  {
   "cell_type": "code",
   "execution_count": 19,
   "id": "c6565db9",
   "metadata": {},
   "outputs": [
    {
     "data": {
      "text/html": [
       "<div>\n",
       "<style scoped>\n",
       "    .dataframe tbody tr th:only-of-type {\n",
       "        vertical-align: middle;\n",
       "    }\n",
       "\n",
       "    .dataframe tbody tr th {\n",
       "        vertical-align: top;\n",
       "    }\n",
       "\n",
       "    .dataframe thead th {\n",
       "        text-align: right;\n",
       "    }\n",
       "</style>\n",
       "<table border=\"1\" class=\"dataframe\">\n",
       "  <thead>\n",
       "    <tr style=\"text-align: right;\">\n",
       "      <th></th>\n",
       "      <th>Country</th>\n",
       "      <th>Year</th>\n",
       "      <th>GDP_Per_Capita</th>\n",
       "      <th>Internet_Users_Pct</th>\n",
       "    </tr>\n",
       "  </thead>\n",
       "  <tbody>\n",
       "    <tr>\n",
       "      <th>7900</th>\n",
       "      <td>Yemen</td>\n",
       "      <td>1999</td>\n",
       "      <td>NaN</td>\n",
       "      <td>0.056629</td>\n",
       "    </tr>\n",
       "    <tr>\n",
       "      <th>7901</th>\n",
       "      <td>Yemen</td>\n",
       "      <td>1998</td>\n",
       "      <td>NaN</td>\n",
       "      <td>0.023323</td>\n",
       "    </tr>\n",
       "    <tr>\n",
       "      <th>7902</th>\n",
       "      <td>Yemen</td>\n",
       "      <td>1997</td>\n",
       "      <td>NaN</td>\n",
       "      <td>0.015025</td>\n",
       "    </tr>\n",
       "    <tr>\n",
       "      <th>7903</th>\n",
       "      <td>Yemen</td>\n",
       "      <td>1996</td>\n",
       "      <td>NaN</td>\n",
       "      <td>0.000621</td>\n",
       "    </tr>\n",
       "    <tr>\n",
       "      <th>7904</th>\n",
       "      <td>Yemen</td>\n",
       "      <td>1990</td>\n",
       "      <td>NaN</td>\n",
       "      <td>0.000000</td>\n",
       "    </tr>\n",
       "  </tbody>\n",
       "</table>\n",
       "</div>"
      ],
      "text/plain": [
       "     Country  Year  GDP_Per_Capita  Internet_Users_Pct\n",
       "7900   Yemen  1999             NaN            0.056629\n",
       "7901   Yemen  1998             NaN            0.023323\n",
       "7902   Yemen  1997             NaN            0.015025\n",
       "7903   Yemen  1996             NaN            0.000621\n",
       "7904   Yemen  1990             NaN            0.000000"
      ]
     },
     "execution_count": 19,
     "metadata": {},
     "output_type": "execute_result"
    }
   ],
   "source": [
    "gdp_and_internet_use.tail()"
   ]
  },
  {
   "cell_type": "markdown",
   "id": "8a3ae01e",
   "metadata": {},
   "source": [
    "### Subset the combined DataFrame to keep only the data for 2004, 2009, and 2014. Check that this happened correctly."
   ]
  },
  {
   "cell_type": "code",
   "execution_count": 20,
   "id": "a98b7b4f",
   "metadata": {
    "scrolled": true
   },
   "outputs": [
    {
     "name": "stdout",
     "output_type": "stream",
     "text": [
      "                    Country  Year  GDP_Per_Capita  Internet_Users_Pct\n",
      "5               Afghanistan  2014     2102.385234            6.390000\n",
      "10              Afghanistan  2009     1758.904043            3.550000\n",
      "15              Afghanistan  2004     1200.278256            0.105809\n",
      "23                  Albania  2014    11623.866679           60.100000\n",
      "28                  Albania  2009    10346.864199           41.200000\n",
      "...                     ...   ...             ...                 ...\n",
      "7868  Virgin Islands (U.S.)  2009             NaN           27.396510\n",
      "7873  Virgin Islands (U.S.)  2004             NaN           27.377009\n",
      "7885                  Yemen  2014             NaN           22.550000\n",
      "7890                  Yemen  2009             NaN            9.960000\n",
      "7895                  Yemen  2004             NaN            0.881223\n",
      "\n",
      "[830 rows x 4 columns]\n"
     ]
    }
   ],
   "source": [
    "gdp_internet_04_09_24 = gdp_and_internet_use[gdp_and_internet_use['Year'].isin([2004, 2009, 2014])]\n",
    "print(gdp_internet_04_09_24)"
   ]
  },
  {
   "cell_type": "markdown",
   "id": "3570526e",
   "metadata": {},
   "source": [
    "### Create three new DataFrames, one for 2004, one for 2009, and one for 2014. Give them meaningful names that aren't too long."
   ]
  },
  {
   "cell_type": "code",
   "execution_count": 21,
   "id": "bb329995",
   "metadata": {
    "scrolled": true
   },
   "outputs": [
    {
     "name": "stdout",
     "output_type": "stream",
     "text": [
      "                    Country  Year  GDP_Per_Capita  Internet_Users_Pct\n",
      "15              Afghanistan  2004     1200.278256            0.105809\n",
      "33                  Albania  2004     7604.838002            2.420388\n",
      "63                  Algeria  2004    10058.435939            4.634475\n",
      "93                   Angola  2004     5593.241537            0.464815\n",
      "123     Antigua and Barbuda  2004    18745.681534           24.266544\n",
      "...                     ...   ...             ...                 ...\n",
      "7771     T.F.Y.R. Macedonia  2004             NaN           24.440000\n",
      "7829              Venezuela  2004             NaN            8.404470\n",
      "7853               Viet Nam  2004             NaN            7.642409\n",
      "7873  Virgin Islands (U.S.)  2004             NaN           27.377009\n",
      "7895                  Yemen  2004             NaN            0.881223\n",
      "\n",
      "[276 rows x 4 columns]\n"
     ]
    }
   ],
   "source": [
    "gdp_internet_2004 = gdp_and_internet_use[gdp_and_internet_use['Year'].isin([2004])]\n",
    "print(gdp_internet_2004)"
   ]
  },
  {
   "cell_type": "code",
   "execution_count": 22,
   "id": "8fc4d39d",
   "metadata": {
    "scrolled": false
   },
   "outputs": [
    {
     "name": "stdout",
     "output_type": "stream",
     "text": [
      "                    Country  Year  GDP_Per_Capita  Internet_Users_Pct\n",
      "10              Afghanistan  2009     1758.904043             3.55000\n",
      "28                  Albania  2009    10346.864199            41.20000\n",
      "58                  Algeria  2009    10782.361398            11.23000\n",
      "88                   Angola  2009     7643.493749             6.00000\n",
      "118     Antigua and Barbuda  2009    20046.839017            42.00000\n",
      "...                     ...   ...             ...                 ...\n",
      "7766     T.F.Y.R. Macedonia  2009             NaN            51.77000\n",
      "7824              Venezuela  2009             NaN            32.70000\n",
      "7848               Viet Nam  2009             NaN            26.55000\n",
      "7868  Virgin Islands (U.S.)  2009             NaN            27.39651\n",
      "7890                  Yemen  2009             NaN             9.96000\n",
      "\n",
      "[277 rows x 4 columns]\n"
     ]
    }
   ],
   "source": [
    "gdp_internet_2009 = gdp_and_internet_use[gdp_and_internet_use['Year'].isin([2009])]\n",
    "print(gdp_internet_2009)"
   ]
  },
  {
   "cell_type": "code",
   "execution_count": 23,
   "id": "a79aabb4",
   "metadata": {
    "scrolled": false
   },
   "outputs": [
    {
     "name": "stdout",
     "output_type": "stream",
     "text": [
      "                    Country  Year  GDP_Per_Capita  Internet_Users_Pct\n",
      "5               Afghanistan  2014     2102.385234                6.39\n",
      "23                  Albania  2014    11623.866679               60.10\n",
      "53                  Algeria  2014    11512.705405               18.09\n",
      "83                   Angola  2014     8239.828837               21.26\n",
      "113     Antigua and Barbuda  2014    18104.241470               64.00\n",
      "...                     ...   ...             ...                 ...\n",
      "7761     T.F.Y.R. Macedonia  2014             NaN               68.06\n",
      "7819              Venezuela  2014             NaN               57.00\n",
      "7843               Viet Nam  2014             NaN               48.31\n",
      "7863  Virgin Islands (U.S.)  2014             NaN               50.07\n",
      "7885                  Yemen  2014             NaN               22.55\n",
      "\n",
      "[277 rows x 4 columns]\n"
     ]
    }
   ],
   "source": [
    "gdp_internet_2014 = gdp_and_internet_use[gdp_and_internet_use['Year'].isin([2014])]\n",
    "print(gdp_internet_2014)"
   ]
  },
  {
   "cell_type": "markdown",
   "id": "b9e159f0",
   "metadata": {},
   "source": [
    "### Which country had the highest percentage of internet users in 2014? What was the percentage? (Try typing the first 3 letters of your DataFrame name and hitting the tab key for auto-complete options)."
   ]
  },
  {
   "cell_type": "code",
   "execution_count": 24,
   "id": "a0aea8d7",
   "metadata": {
    "scrolled": true
   },
   "outputs": [
    {
     "name": "stdout",
     "output_type": "stream",
     "text": [
      "      Country  Year  GDP_Per_Capita  Internet_Users_Pct\n",
      "2625  Iceland  2014      49652.1495               98.16\n"
     ]
    }
   ],
   "source": [
    "highest_int_2014 = gdp_internet_2014[gdp_internet_2014['Internet_Users_Pct']==gdp_internet_2014['Internet_Users_Pct'].max()]\n",
    "print(highest_int_2014)"
   ]
  },
  {
   "cell_type": "markdown",
   "id": "c9c47aad",
   "metadata": {},
   "source": [
    "### Which country had the lowest percentage of internet users in 2014? What was the percentage"
   ]
  },
  {
   "cell_type": "code",
   "execution_count": 25,
   "id": "e0358e44",
   "metadata": {},
   "outputs": [
    {
     "name": "stdout",
     "output_type": "stream",
     "text": [
      "                          Country  Year  GDP_Per_Capita  Internet_Users_Pct\n",
      "7079  Dem. People's Rep. of Korea  2014             NaN                 0.0\n"
     ]
    }
   ],
   "source": [
    "lowest_int_2014 = gdp_internet_2014[gdp_internet_2014['Internet_Users_Pct']==gdp_internet_2014['Internet_Users_Pct'].min()]\n",
    "print(lowest_int_2014)"
   ]
  },
  {
   "cell_type": "markdown",
   "id": "fcab5fde",
   "metadata": {},
   "source": [
    "### Repeat for 2004 and 2009."
   ]
  },
  {
   "cell_type": "code",
   "execution_count": 26,
   "id": "0c24e881",
   "metadata": {},
   "outputs": [
    {
     "name": "stdout",
     "output_type": "stream",
     "text": [
      "                          Country  Year  GDP_Per_Capita  Internet_Users_Pct\n",
      "7088  Dem. People's Rep. of Korea  2004             NaN                 0.0\n"
     ]
    }
   ],
   "source": [
    "lowest_int_2004 = gdp_internet_2004[gdp_internet_2004['Internet_Users_Pct']==gdp_internet_2004['Internet_Users_Pct'].min()]\n",
    "print(lowest_int_2004)"
   ]
  },
  {
   "cell_type": "code",
   "execution_count": 27,
   "id": "876856d6",
   "metadata": {},
   "outputs": [
    {
     "name": "stdout",
     "output_type": "stream",
     "text": [
      "                          Country  Year  GDP_Per_Capita  Internet_Users_Pct\n",
      "7083  Dem. People's Rep. of Korea  2009             NaN                 0.0\n"
     ]
    }
   ],
   "source": [
    "lowest_int_2009 = gdp_internet_2009[gdp_internet_2009['Internet_Users_Pct']==gdp_internet_2009['Internet_Users_Pct'].min()]\n",
    "print(lowest_int_2009)\n"
   ]
  },
  {
   "cell_type": "markdown",
   "id": "86dd9256",
   "metadata": {},
   "source": [
    "### Which country had the highest gdp per capita in 2014? What was the gdp per capita?\n",
    "### Which country had the lowest gdp per capita in 2014? What was the gdp per capita?"
   ]
  },
  {
   "cell_type": "code",
   "execution_count": 28,
   "id": "17961f5f",
   "metadata": {},
   "outputs": [
    {
     "name": "stdout",
     "output_type": "stream",
     "text": [
      "      Country  Year  GDP_Per_Capita  Internet_Users_Pct\n",
      "2625  Iceland  2014      49652.1495               98.16\n"
     ]
    }
   ],
   "source": [
    "highest_gdp_2014 = gdp_internet_2014[gdp_internet_2014['GDP_Per_Capita']==gdp_internet_2014['GDP_Per_Capita'].max()]\n",
    "print(highest_int_2014)"
   ]
  },
  {
   "cell_type": "markdown",
   "id": "5b0a0f8f",
   "metadata": {},
   "source": [
    "#### I need to drop all the nulls in this so that way i get the country with the lowest actual number. Also, get a list of all the the countries that have a zero in for GDP"
   ]
  },
  {
   "cell_type": "code",
   "execution_count": 29,
   "id": "9bf7d89c",
   "metadata": {},
   "outputs": [
    {
     "name": "stdout",
     "output_type": "stream",
     "text": [
      "                       Country  Year  GDP_Per_Capita  Internet_Users_Pct\n",
      "1047  Central African Republic  2014      822.610458                 NaN\n",
      "827                    Burundi  2014      886.235777                1.38\n",
      "3781                    Malawi  2014     1027.208496                5.83\n",
      "1422           Dem. Rep. Congo  2014     1029.790785                 NaN\n",
      "4528                     Niger  2014     1127.615541                1.95\n"
     ]
    }
   ],
   "source": [
    "bottom1 = gdp_internet_2014.nsmallest(5, 'GDP_Per_Capita')\n",
    "print(bottom1)"
   ]
  },
  {
   "cell_type": "markdown",
   "id": "315f5b63",
   "metadata": {},
   "source": [
    "### Lowest that has a number."
   ]
  },
  {
   "cell_type": "code",
   "execution_count": 30,
   "id": "24b68038",
   "metadata": {},
   "outputs": [
    {
     "name": "stdout",
     "output_type": "stream",
     "text": [
      "     Country  Year  GDP_Per_Capita  Internet_Users_Pct\n",
      "827  Burundi  2014      886.235777                1.38\n"
     ]
    }
   ],
   "source": [
    "#DataFrameName.dropna(axis=0, how='any', thresh=None, subset=None, inplace=False)\n",
    "not_null_2014 = gdp_internet_2014.dropna(axis = 0, how = 'any')\n",
    "bottom1 = not_null_2014.nsmallest(1, 'GDP_Per_Capita')\n",
    "print(bottom1)"
   ]
  },
  {
   "cell_type": "code",
   "execution_count": 31,
   "id": "0d72d820",
   "metadata": {},
   "outputs": [
    {
     "name": "stdout",
     "output_type": "stream",
     "text": [
      "                          Country  Year  Internet_Users_Pct\n",
      "7079  Dem. People's Rep. of Korea  2014                 0.0\n"
     ]
    }
   ],
   "source": [
    "lowest_gdp_2014 = gdp_internet_2014[gdp_internet_2014['GDP_Per_Capita']==gdp_internet_2014['GDP_Per_Capita'].min()]\n",
    "print(lowest_int_2014.dropna(axis = 1, how = 'any'))"
   ]
  },
  {
   "cell_type": "markdown",
   "id": "ce9c12c2",
   "metadata": {},
   "source": [
    "### Create some scatterplots:"
   ]
  },
  {
   "cell_type": "markdown",
   "id": "d3384fb6",
   "metadata": {},
   "source": [
    "#### a. 2004 Percent Using the Internet vs GDP Per Capita"
   ]
  },
  {
   "cell_type": "code",
   "execution_count": 32,
   "id": "b786fe29",
   "metadata": {},
   "outputs": [
    {
     "data": {
      "text/plain": [
       "<AxesSubplot:title={'center':'2004'}, xlabel='GDP Per Capita', ylabel='% of Internet Users'>"
      ]
     },
     "execution_count": 32,
     "metadata": {},
     "output_type": "execute_result"
    },
    {
     "data": {
      "image/png": "[encoded data removed]",
      "text/plain": [
       "<Figure size 640x480 with 1 Axes>"
      ]
     },
     "metadata": {},
     "output_type": "display_data"
    }
   ],
   "source": [
    "gdp_internet_2004.plot.scatter(x = 'Internet_Users_Pct', y = 'GDP_Per_Capita', title = '2004', grid = True, xlabel = 'GDP Per Capita', ylabel = '% of Internet Users')"
   ]
  },
  {
   "cell_type": "markdown",
   "id": "da6c6e96",
   "metadata": {},
   "source": [
    "#### b. 2009 Percent Using the Internet vs GDP Per Capita"
   ]
  },
  {
   "cell_type": "code",
   "execution_count": 33,
   "id": "f9dc5d2f",
   "metadata": {},
   "outputs": [
    {
     "data": {
      "text/plain": [
       "<AxesSubplot:title={'center':'2009'}, xlabel='GDP Per Capita', ylabel='% of Internet Users'>"
      ]
     },
     "execution_count": 33,
     "metadata": {},
     "output_type": "execute_result"
    },
    {
     "data": {
      "image/png": "[encoded data removed]",
      "text/plain": [
       "<Figure size 640x480 with 1 Axes>"
      ]
     },
     "metadata": {},
     "output_type": "display_data"
    }
   ],
   "source": [
    "gdp_internet_2009.plot.scatter(x = 'Internet_Users_Pct', y = 'GDP_Per_Capita', title = '2009', grid = True, xlabel = 'GDP Per Capita', ylabel = '% of Internet Users')"
   ]
  },
  {
   "cell_type": "markdown",
   "id": "0987839a",
   "metadata": {},
   "source": [
    "#### c. 2014 Percent Using the Internet vs GDP Per Capita"
   ]
  },
  {
   "cell_type": "code",
   "execution_count": 34,
   "id": "807ee8cb",
   "metadata": {
    "scrolled": true
   },
   "outputs": [
    {
     "data": {
      "text/plain": [
       "<AxesSubplot:title={'center':'2014'}, xlabel='GDP Per Capita', ylabel='% of Internet Users'>"
      ]
     },
     "execution_count": 34,
     "metadata": {},
     "output_type": "execute_result"
    },
    {
     "data": {
      "image/png": "[encoded data removed]",
      "text/plain": [
       "<Figure size 640x480 with 1 Axes>"
      ]
     },
     "metadata": {},
     "output_type": "display_data"
    }
   ],
   "source": [
    "gdp_internet_2014.plot.scatter(x = 'Internet_Users_Pct', y = 'GDP_Per_Capita', title = '2014', grid = True, xlabel = 'GDP Per Capita', ylabel = '% of Internet Users')"
   ]
  },
  {
   "cell_type": "markdown",
   "id": "c08c9e3d",
   "metadata": {},
   "source": [
    "### Are there differences across years? What do the plots tell you about any relationship between these two variables? Enter your observations as a markdown cell.\n",
    "\n",
    "The number of internet users has grown drasticlly in nations with lower GDP."
   ]
  },
  {
   "cell_type": "markdown",
   "id": "37fd2469",
   "metadata": {},
   "source": [
    "### Look at the distribution of gdp per capita values for 2014. Is it unimodal?"
   ]
  },
  {
   "cell_type": "code",
   "execution_count": 35,
   "id": "2545efcc",
   "metadata": {},
   "outputs": [
    {
     "data": {
      "text/plain": [
       "(array([146.,  41.,  25.,  18.,   4.,   1.,   2.,   0.,   0.,   1.]),\n",
       " array([   822.61045782,  16391.76279701,  31960.91513621,  47530.06747541,\n",
       "         63099.2198146 ,  78668.3721538 ,  94237.524493  , 109806.67683219,\n",
       "        125375.82917139, 140944.98151059, 156514.13384978]),\n",
       " <BarContainer object of 10 artists>)"
      ]
     },
     "execution_count": 35,
     "metadata": {},
     "output_type": "execute_result"
    },
    {
     "data": {
      "image/png": "[encoded data removed]",
      "text/plain": [
       "<Figure size 640x480 with 1 Axes>"
      ]
     },
     "metadata": {},
     "output_type": "display_data"
    }
   ],
   "source": [
    "#gdp_internet_2014.plot.hist(column = 'GDP_Per_Capita')\n",
    "plt.hist(gdp_internet_2014.GDP_Per_Capita)\n",
    "#Why are these two not the same?"
   ]
  },
  {
   "cell_type": "markdown",
   "id": "31e0f10f",
   "metadata": {},
   "source": [
    "#### Yes, it is unimodel. It only has one unique max value."
   ]
  },
  {
   "cell_type": "code",
   "execution_count": 36,
   "id": "f0e00ca4",
   "metadata": {
    "scrolled": true
   },
   "outputs": [
    {
     "name": "stdout",
     "output_type": "stream",
     "text": [
      "3721    156514.133850\n",
      "3691    108760.916030\n",
      "5138     95578.416973\n",
      "5464     87808.663157\n",
      "561      77361.104881\n",
      "Name: GDP_Per_Capita, dtype: float64\n"
     ]
    }
   ],
   "source": [
    "print(gdp_internet_2014['GDP_Per_Capita'].nlargest(n=5))"
   ]
  },
  {
   "cell_type": "markdown",
   "id": "384e9b80",
   "metadata": {},
   "source": [
    "### Look at the distribution of Internet Use for 2014. Is it unimodal?"
   ]
  },
  {
   "cell_type": "code",
   "execution_count": 37,
   "id": "8cde1691",
   "metadata": {
    "scrolled": false
   },
   "outputs": [
    {
     "data": {
      "text/plain": [
       "(array([31., 31., 12., 10., 24., 18., 21., 20., 18., 17.]),\n",
       " array([ 0.   ,  9.816, 19.632, 29.448, 39.264, 49.08 , 58.896, 68.712,\n",
       "        78.528, 88.344, 98.16 ]),\n",
       " <BarContainer object of 10 artists>)"
      ]
     },
     "execution_count": 37,
     "metadata": {},
     "output_type": "execute_result"
    },
    {
     "data": {
      "image/png": "[encoded data removed]",
      "text/plain": [
       "<Figure size 640x480 with 1 Axes>"
      ]
     },
     "metadata": {},
     "output_type": "display_data"
    }
   ],
   "source": [
    "plt.hist(gdp_internet_2014.Internet_Users_Pct)"
   ]
  },
  {
   "cell_type": "markdown",
   "id": "4b11075d",
   "metadata": {},
   "source": [
    "#### Yes, it is unimodel. It only has one unique max value."
   ]
  },
  {
   "cell_type": "code",
   "execution_count": 38,
   "id": "2788a4ad",
   "metadata": {},
   "outputs": [
    {
     "name": "stdout",
     "output_type": "stream",
     "text": [
      "2625    98.16\n",
      "561     96.80\n",
      "4648    96.30\n",
      "1452    95.99\n",
      "6871    95.90\n",
      "Name: Internet_Users_Pct, dtype: float64\n"
     ]
    }
   ],
   "source": [
    "# No. More than one clear max.\n",
    "\n",
    "print(gdp_internet_2014['Internet_Users_Pct'].nlargest(n=5))"
   ]
  },
  {
   "cell_type": "markdown",
   "id": "e5323c34",
   "metadata": {},
   "source": [
    "### What are the top 5 countries in terms of internet use in 2014?"
   ]
  },
  {
   "cell_type": "code",
   "execution_count": 39,
   "id": "3dd1ec3e",
   "metadata": {
    "scrolled": false
   },
   "outputs": [
    {
     "name": "stdout",
     "output_type": "stream",
     "text": [
      "      Country  Year  GDP_Per_Capita  Internet_Users_Pct\n",
      "2625  Iceland  2014    49652.149500               98.16\n",
      "561   Bermuda  2014    77361.104881               96.80\n",
      "4648   Norway  2014    62589.373548               96.30\n",
      "1452  Denmark  2014    52214.537753               95.99\n",
      "6871  Andorra  2014             NaN               95.90\n"
     ]
    }
   ],
   "source": [
    "top5_internet_2014 = gdp_internet_2014.sort_values(by=['Internet_Users_Pct'], ascending = False).head(5)\n",
    "print(top5_internet_2014)"
   ]
  },
  {
   "cell_type": "code",
   "execution_count": 40,
   "id": "39aa0471",
   "metadata": {
    "scrolled": true
   },
   "outputs": [
    {
     "name": "stdout",
     "output_type": "stream",
     "text": [
      "              Country  Year  GDP_Per_Capita  Internet_Users_Pct\n",
      "6019           Sweden  2004    44496.023401               83.89\n",
      "2635          Iceland  2004    45145.545658               83.88\n",
      "1462          Denmark  2004    50607.628971               80.93\n",
      "4658           Norway  2004    60893.410993               77.69\n",
      "7400  Korea (Rep. of)  2004             NaN               72.70\n"
     ]
    }
   ],
   "source": [
    "top5_internet_2004 = gdp_internet_2004.sort_values(by=['Internet_Users_Pct'], ascending = False).head(5)\n",
    "print(top5_internet_2004)"
   ]
  },
  {
   "cell_type": "code",
   "execution_count": 41,
   "id": "5873a24a",
   "metadata": {},
   "outputs": [
    {
     "name": "stdout",
     "output_type": "stream",
     "text": [
      "          Country  Year  GDP_Per_Capita  Internet_Users_Pct\n",
      "2630      Iceland  2009    48177.084123               93.00\n",
      "4653       Norway  2009    61886.564498               92.08\n",
      "6014       Sweden  2009    45638.035577               91.00\n",
      "4443  Netherlands  2009    51772.424928               89.63\n",
      "3696   Luxembourg  2009   104932.811953               87.31\n"
     ]
    }
   ],
   "source": [
    "top5_internet_2009 = gdp_internet_2009.sort_values(by=['Internet_Users_Pct'], ascending = False).head(5)\n",
    "print(top5_internet_2009)"
   ]
  },
  {
   "cell_type": "markdown",
   "id": "5285a607",
   "metadata": {},
   "source": [
    "### Create a DataFrame called top_5_internet from the combined DataFrame that has all three years for the 5 countries that had the greatest 2014 internet usage. You should have 15 rows. Check that this is true. "
   ]
  },
  {
   "cell_type": "code",
   "execution_count": 42,
   "id": "aa467900",
   "metadata": {},
   "outputs": [
    {
     "name": "stdout",
     "output_type": "stream",
     "text": [
      "      Country  Year  GDP_Per_Capita  Internet_Users_Pct\n",
      "561   Bermuda  2014    77361.104881           96.800000\n",
      "566   Bermuda  2009    89961.982744           83.250000\n",
      "571   Bermuda  2004    90195.811033           60.990867\n",
      "1452  Denmark  2014    52214.537753           95.990000\n",
      "1457  Denmark  2009    50274.075696           86.840000\n",
      "1462  Denmark  2004    50607.628971           80.930000\n",
      "2625  Iceland  2014    49652.149500           98.160000\n",
      "2630  Iceland  2009    48177.084123           93.000000\n",
      "2635  Iceland  2004    45145.545658           83.880000\n",
      "4648   Norway  2014    62589.373548           96.300000\n",
      "4653   Norway  2009    61886.564498           92.080000\n",
      "4658   Norway  2004    60893.410993           77.690000\n",
      "6871  Andorra  2014             NaN           95.900000\n",
      "6876  Andorra  2009             NaN           78.530000\n",
      "6881  Andorra  2004             NaN           26.837954\n"
     ]
    }
   ],
   "source": [
    "top14 = gdp_internet_04_09_24[gdp_internet_04_09_24['Country'].isin(top5_internet_2014['Country'])]\n",
    "print(top14)"
   ]
  },
  {
   "cell_type": "markdown",
   "id": "056570ed",
   "metadata": {},
   "source": [
    "### Create a seaborn FacetGrid to show the internet usage trend across the years 2004, 2009, and 2014 for these 5 countries (those with the highest reported internet use in 2014). Which country had the greatest growth between 2004 and 2014?"
   ]
  },
  {
   "cell_type": "code",
   "execution_count": 43,
   "id": "1353b862",
   "metadata": {},
   "outputs": [
    {
     "data": {
      "image/png": "[encoded data removed]",
      "text/plain": [
       "<Figure size 1500x300 with 5 Axes>"
      ]
     },
     "metadata": {},
     "output_type": "display_data"
    }
   ],
   "source": [
    "g = snsb.FacetGrid(top14, col = 'Country')\n",
    "g = g.map(snsb.lineplot,\"Year\",\"Internet_Users_Pct\")\n",
    "\n",
    "# g = sns.FacetGrid(top_5_internet, col = 'Country')\n",
    "# g.map_dataframe(sns.lineplot, x= 'Year', y = 'internet_Users_Pct')"
   ]
  },
  {
   "cell_type": "markdown",
   "id": "bd89cfbc",
   "metadata": {},
   "source": [
    "### Repeat the steps above to look at the trend for the 5 countries with the lowest 2014 internet usage. Which country has consistently had the least internet use?"
   ]
  },
  {
   "cell_type": "code",
   "execution_count": 44,
   "id": "5708fe1f",
   "metadata": {},
   "outputs": [
    {
     "name": "stdout",
     "output_type": "stream",
     "text": [
      "                          Country  Year  GDP_Per_Capita  Internet_Users_Pct\n",
      "7079  Dem. People's Rep. of Korea  2014             NaN                0.00\n",
      "7137                      Eritrea  2014             NaN                0.99\n",
      "6219                  Timor-Leste  2014     3264.568070                1.14\n",
      "827                       Burundi  2014      886.235777                1.38\n",
      "7674                      Somalia  2014             NaN                1.63\n",
      "                          Country  Year  GDP_Per_Capita  Internet_Users_Pct\n",
      "827                       Burundi  2014      886.235777            1.380000\n",
      "832                       Burundi  2009      831.564131            0.900000\n",
      "837                       Burundi  2004      817.460585            0.349060\n",
      "6219                  Timor-Leste  2014     3264.568070            1.140000\n",
      "6224                  Timor-Leste  2009     2724.770973            0.185252\n",
      "6229                  Timor-Leste  2004     2258.608056                 NaN\n",
      "7079  Dem. People's Rep. of Korea  2014             NaN            0.000000\n",
      "7083  Dem. People's Rep. of Korea  2009             NaN            0.000000\n",
      "7088  Dem. People's Rep. of Korea  2004             NaN            0.000000\n",
      "7137                      Eritrea  2014             NaN            0.990000\n",
      "7142                      Eritrea  2009             NaN            0.540000\n",
      "7674                      Somalia  2014             NaN            1.630000\n",
      "7678                      Somalia  2009             NaN            1.160611\n",
      "7683                      Somalia  2004             NaN            1.053455\n"
     ]
    }
   ],
   "source": [
    "bottom5 = gdp_internet_2014.nsmallest(5, 'Internet_Users_Pct')\n",
    "print(bottom5)\n",
    "bottom = gdp_internet_04_09_24[gdp_internet_04_09_24['Country'].isin(bottom5['Country'])]\n",
    "print(bottom)"
   ]
  },
  {
   "cell_type": "code",
   "execution_count": 45,
   "id": "dad07786",
   "metadata": {
    "scrolled": false
   },
   "outputs": [
    {
     "data": {
      "image/png": "[encoded data removed]",
      "text/plain": [
       "<Figure size 1500x300 with 5 Axes>"
      ]
     },
     "metadata": {},
     "output_type": "display_data"
    }
   ],
   "source": [
    "g = snsb.FacetGrid(bottom, col = 'Country')\n",
    "g = g.map(snsb.lineplot,\"Year\",\"Internet_Users_Pct\")"
   ]
  },
  {
   "cell_type": "markdown",
   "id": "792c8c41",
   "metadata": {},
   "source": [
    "Find the top 5 countries for 2014 in terms of GDP per capita; create a DataFrame to look at 10-year trends (use 2004, 2009, 2014 to look at the 10-year trend) in gdp per capita for the 5 countries with the highest 2014 GDP per capita. Use a seaborn facet grid for this."
   ]
  },
  {
   "cell_type": "code",
   "execution_count": 46,
   "id": "07df1dc3",
   "metadata": {},
   "outputs": [
    {
     "data": {
      "image/png": "[encoded data removed]",
      "text/plain": [
       "<Figure size 1500x300 with 5 Axes>"
      ]
     },
     "metadata": {},
     "output_type": "display_data"
    }
   ],
   "source": [
    "lrg_5_gdp = gdp_internet_2014.nlargest(5, 'GDP_Per_Capita')\n",
    "lrg_5 = gdp_internet_04_09_24[gdp_internet_04_09_24['Country'].isin(lrg_5_gdp['Country'])]\n",
    "g = snsb.FacetGrid(lrg_5, col = 'Country')\n",
    "g = g.map(snsb.lineplot,\"Year\",\"GDP_Per_Capita\")"
   ]
  },
  {
   "cell_type": "markdown",
   "id": "44985d32",
   "metadata": {},
   "source": [
    "### Repeat this one more time to look at 10-year trend for the 5 countries for 2014 with the lowest GDP per capita."
   ]
  },
  {
   "cell_type": "code",
   "execution_count": 47,
   "id": "a1624f74",
   "metadata": {},
   "outputs": [
    {
     "data": {
      "image/png": "[encoded data removed]",
      "text/plain": [
       "<Figure size 1500x300 with 5 Axes>"
      ]
     },
     "metadata": {},
     "output_type": "display_data"
    }
   ],
   "source": [
    "sml_5_gdp = gdp_internet_2014.nsmallest(5, 'GDP_Per_Capita')\n",
    "sml_5 = gdp_internet_04_09_24[gdp_internet_04_09_24['Country'].isin(sml_5_gdp['Country'])]\n",
    "g = snsb.FacetGrid(sml_5, col = 'Country')\n",
    "g = g.map(snsb.lineplot,\"Year\",\"GDP_Per_Capita\")"
   ]
  },
  {
   "cell_type": "markdown",
   "id": "9071e772",
   "metadata": {},
   "source": [
    "Is there anything surprising or unusual in any of these plots? Searching on the internet, can you find any possible explanations for unusual findings?\n",
    "\n",
    "A coup in 2013.\n",
    "\n",
    "\n",
    "Bonus exercise:\n",
    "Download another data set from the UN data (http://data.un.org/Explorer.aspx) to merge with your data and explore."
   ]
  },
  {
   "cell_type": "markdown",
   "id": "a35d9eeb",
   "metadata": {},
   "source": [
    "## Old Code"
   ]
  },
  {
   "cell_type": "markdown",
   "id": "146972cf",
   "metadata": {},
   "source": [
    "print('Highest Internet Use 2009')\n",
    "highest_int_2009 = gdp_internet_2009[gdp_internet_2009['Internet_Users_Pct']==gdp_internet_2009['Internet_Users_Pct'].max()]\n",
    "print(highest_int_2009)\n",
    "print('  ')\n",
    "\n",
    "print('Lowest Internet Use 2009')\n",
    "lowest_int_2009 = gdp_internet_2009[gdp_internet_2009['Internet_Users_Pct']==gdp_internet_2009['Internet_Users_Pct'].min()]\n",
    "print(lowest_int_2009)\n",
    "\n",
    "print('Highest Internet Use 2004')\n",
    "highest_int_2004 = gdp_internet_2004[gdp_internet_2004['Internet_Users_Pct']==gdp_internet_2004['Internet_Users_Pct'].max()]\n",
    "print(highest_int_2004)\n",
    "print('  ')\n",
    "\n",
    "print('Lowest Internet Use 2004')\n",
    "lowest_int_2004 = gdp_internet_2004[gdp_internet_2004['Internet_Users_Pct']==gdp_internet_2004['Internet_Users_Pct'].min()]\n",
    "print(lowest_int_2004)"
   ]
  },
  {
   "cell_type": "code",
   "execution_count": 49,
   "id": "31d34380",
   "metadata": {},
   "outputs": [
    {
     "ename": "SyntaxError",
     "evalue": "(unicode error) 'unicodeescape' codec can't decode bytes in position 0-1: truncated \\UXXXXXXXX escape (2506331157.py, line 1)",
     "output_type": "error",
     "traceback": [
      "\u001b[1;36m  Cell \u001b[1;32mIn [49], line 1\u001b[1;36m\u001b[0m\n\u001b[1;33m    ihv = pd.read_csv('\\Users\\jhank\\Desktop\\DA7\\Projects\\gdp-and-internet-usage-jwhankins177\\Data\\ihv_deaths.csv')\u001b[0m\n\u001b[1;37m                                                                                                                 ^\u001b[0m\n\u001b[1;31mSyntaxError\u001b[0m\u001b[1;31m:\u001b[0m (unicode error) 'unicodeescape' codec can't decode bytes in position 0-1: truncated \\UXXXXXXXX escape\n"
     ]
    }
   ],
   "source": []
  }
 ],
 "metadata": {
  "kernelspec": {
   "display_name": "Python 3 (ipykernel)",
   "language": "python",
   "name": "python3"
  },
  "language_info": {
   "codemirror_mode": {
    "name": "ipython",
    "version": 3
   },
   "file_extension": ".py",
   "mimetype": "text/x-python",
   "name": "python",
   "nbconvert_exporter": "python",
   "pygments_lexer": "ipython3",
   "version": "3.9.7"
  }
 },
 "nbformat": 4,
 "nbformat_minor": 5
}
